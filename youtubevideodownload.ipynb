{
 "cells": [
  {
   "cell_type": "code",
   "execution_count": 1,
   "id": "ae516239-c481-4c50-8db7-09fc0c5374b4",
   "metadata": {},
   "outputs": [
    {
     "name": "stdout",
     "output_type": "stream",
     "text": [
      "Requirement already satisfied: pytube3 in c:\\users\\user\\anaconda3\\new folder\\lib\\site-packages (9.6.4)\n",
      "Requirement already satisfied: typing-extensions in c:\\users\\user\\anaconda3\\new folder\\lib\\site-packages (from pytube3) (4.11.0)\n",
      "Note: you may need to restart the kernel to use updated packages.\n"
     ]
    }
   ],
   "source": [
    "pip install pytube3"
   ]
  },
  {
   "cell_type": "code",
   "execution_count": 3,
   "id": "9cd149bd-7f7a-4841-bd89-b92b903a704a",
   "metadata": {},
   "outputs": [
    {
     "name": "stdout",
     "output_type": "stream",
     "text": [
      "Collecting pytubeNote: you may need to restart the kernel to use updated packages.\n",
      "\n",
      "  Downloading pytube-15.0.0-py3-none-any.whl.metadata (5.0 kB)\n",
      "Downloading pytube-15.0.0-py3-none-any.whl (57 kB)\n",
      "   ---------------------------------------- 0.0/57.6 kB ? eta -:--:--\n",
      "   ---------------------------------------- 0.0/57.6 kB ? eta -:--:--\n",
      "   ---------------------------------------- 0.0/57.6 kB ? eta -:--:--\n",
      "   ---------------------------------------- 0.0/57.6 kB ? eta -:--:--\n",
      "   ---------------------------------------- 0.0/57.6 kB ? eta -:--:--\n",
      "   ---------------------------------------- 0.0/57.6 kB ? eta -:--:--\n",
      "   ---------------------------- ----------- 41.0/57.6 kB 991.0 kB/s eta 0:00:01\n",
      "   ---------------------------- ----------- 41.0/57.6 kB 991.0 kB/s eta 0:00:01\n",
      "   ---------------------------- ----------- 41.0/57.6 kB 991.0 kB/s eta 0:00:01\n",
      "   ---------------------------- ----------- 41.0/57.6 kB 991.0 kB/s eta 0:00:01\n",
      "   ----------------------------------- ---- 51.2/57.6 kB 201.8 kB/s eta 0:00:01\n",
      "   ---------------------------------------- 57.6/57.6 kB 202.4 kB/s eta 0:00:00\n",
      "Installing collected packages: pytube\n",
      "Successfully installed pytube-15.0.0\n"
     ]
    }
   ],
   "source": [
    "pip install --upgrade pytube"
   ]
  },
  {
   "cell_type": "code",
   "execution_count": 5,
   "id": "7aeb351b-37da-4dff-a716-4fdb77ce6034",
   "metadata": {},
   "outputs": [],
   "source": [
    "from pytube import YouTube"
   ]
  },
  {
   "cell_type": "code",
   "execution_count": 7,
   "id": "2559013c-adb1-4ac8-bfa1-d27999ca6f46",
   "metadata": {},
   "outputs": [
    {
     "name": "stdout",
     "output_type": "stream",
     "text": [
      "Requirement already satisfied: yt-dlp in c:\\users\\user\\anaconda3\\new folder\\lib\\site-packages (2024.8.6)\n",
      "Requirement already satisfied: brotli in c:\\users\\user\\anaconda3\\new folder\\lib\\site-packages (from yt-dlp) (1.0.9)\n",
      "Requirement already satisfied: certifi in c:\\users\\user\\anaconda3\\new folder\\lib\\site-packages (from yt-dlp) (2024.6.2)\n",
      "Requirement already satisfied: mutagen in c:\\users\\user\\anaconda3\\new folder\\lib\\site-packages (from yt-dlp) (1.47.0)\n",
      "Requirement already satisfied: pycryptodomex in c:\\users\\user\\anaconda3\\new folder\\lib\\site-packages (from yt-dlp) (3.20.0)\n",
      "Requirement already satisfied: requests<3,>=2.32.2 in c:\\users\\user\\anaconda3\\new folder\\lib\\site-packages (from yt-dlp) (2.32.2)\n",
      "Requirement already satisfied: urllib3<3,>=1.26.17 in c:\\users\\user\\anaconda3\\new folder\\lib\\site-packages (from yt-dlp) (2.2.2)\n",
      "Requirement already satisfied: websockets>=12.0 in c:\\users\\user\\anaconda3\\new folder\\lib\\site-packages (from yt-dlp) (13.0.1)\n",
      "Requirement already satisfied: charset-normalizer<4,>=2 in c:\\users\\user\\anaconda3\\new folder\\lib\\site-packages (from requests<3,>=2.32.2->yt-dlp) (2.0.4)\n",
      "Requirement already satisfied: idna<4,>=2.5 in c:\\users\\user\\anaconda3\\new folder\\lib\\site-packages (from requests<3,>=2.32.2->yt-dlp) (3.7)\n",
      "Note: you may need to restart the kernel to use updated packages.\n"
     ]
    }
   ],
   "source": [
    "pip install yt-dlp"
   ]
  },
  {
   "cell_type": "code",
   "execution_count": 8,
   "id": "8e734b02-6977-43fe-a27e-1f0bab8da6e8",
   "metadata": {},
   "outputs": [
    {
     "name": "stdin",
     "output_type": "stream",
     "text": [
      "enter YouTube videos youtube.com/watch?v=eDN6fAWLNNE&t=5425s\n"
     ]
    }
   ],
   "source": [
    "link = input(\"enter YouTube videos\")\n",
    "yt = YouTube(link)\n"
   ]
  },
  {
   "cell_type": "code",
   "execution_count": 10,
   "id": "790e97f9-7284-4dfe-aa02-7e3de8d3e0c6",
   "metadata": {},
   "outputs": [
    {
     "name": "stdout",
     "output_type": "stream",
     "text": [
      "title: Generative AI for Build LLM Model Using Lama 3,Hugging Face & Ollama | NareshIT\n",
      "number of views: 2476\n",
      "length of video: 8456\n",
      "rating of video: None\n"
     ]
    }
   ],
   "source": [
    "print(\"title:\",yt.title)\n",
    "print(\"number of views:\",yt.views)\n",
    "print(\"length of video:\",yt.length)\n",
    "print(\"rating of video:\",yt.rating)\n"
   ]
  },
  {
   "cell_type": "code",
   "execution_count": 12,
   "id": "40c9140b-2c3d-4212-baee-825e06d9ecde",
   "metadata": {},
   "outputs": [
    {
     "name": "stdin",
     "output_type": "stream",
     "text": [
      "Do you want to download this video? (yes/no):  yes\n"
     ]
    },
    {
     "name": "stdout",
     "output_type": "stream",
     "text": [
      "Downloading...\n",
      "[generic] Extracting URL: youtube.com/watch?v=eDN6fAWLNNE&t=5432s&#39\n"
     ]
    },
    {
     "name": "stderr",
     "output_type": "stream",
     "text": [
      "WARNING: [generic] The url doesn't specify the protocol, trying with http\n"
     ]
    },
    {
     "name": "stdout",
     "output_type": "stream",
     "text": [
      "[youtube] Extracting URL: http://youtube.com/watch?v=eDN6fAWLNNE&t=5432s&#39\n",
      "[youtube] eDN6fAWLNNE: Downloading webpage\n",
      "[youtube] eDN6fAWLNNE: Downloading ios player API JSON\n",
      "[youtube] eDN6fAWLNNE: Downloading web creator player API JSON\n",
      "[youtube] eDN6fAWLNNE: Downloading player 3abab6ef\n",
      "[youtube] eDN6fAWLNNE: Downloading m3u8 information\n",
      "[info] eDN6fAWLNNE: Downloading 1 format(s): 18\n",
      "[download] Destination: Generative AI for Build LLM Model Using Lama 3,Hugging Face & Ollama ｜ NareshIT [eDN6fAWLNNE].mp4\n",
      "[download] 100% of  190.53MiB in 00:00:14 at 13.45MiB/s    \n",
      "Download completed.\n"
     ]
    }
   ],
   "source": [
    "from yt_dlp import YoutubeDL\n",
    "\n",
    "download_option = input(\"Do you want to download this video? (yes/no): \").lower()\n",
    "\n",
    "if download_option == \"yes\":\n",
    "    url = 'youtube.com/watch?v=eDN6fAWLNNE&t=5432s&#39';\n",
    "    ydl_opts = {'format': 'best'}\n",
    "    with YoutubeDL(ydl_opts) as ydl:\n",
    "        print(\"Downloading...\")\n",
    "        ydl.download([url])\n",
    "        print(\"Download completed.\")\n",
    "else:\n",
    "    print(\"Download aborted.\")"
   ]
  },
  {
   "cell_type": "code",
   "execution_count": 13,
   "id": "cbee156f-8440-42af-a2a5-911fcdd35df5",
   "metadata": {},
   "outputs": [
    {
     "data": {
      "text/plain": [
       "'C:\\\\Users\\\\USER'"
      ]
     },
     "execution_count": 13,
     "metadata": {},
     "output_type": "execute_result"
    }
   ],
   "source": [
    "import os\n",
    "os.getcwd()"
   ]
  },
  {
   "cell_type": "code",
   "execution_count": null,
   "id": "dc72fa6d-ec8c-41c2-a7d8-e74c3aadf7e8",
   "metadata": {},
   "outputs": [],
   "source": []
  }
 ],
 "metadata": {
  "kernelspec": {
   "display_name": "Python 3 (ipykernel)",
   "language": "python",
   "name": "python3"
  },
  "language_info": {
   "codemirror_mode": {
    "name": "ipython",
    "version": 3
   },
   "file_extension": ".py",
   "mimetype": "text/x-python",
   "name": "python",
   "nbconvert_exporter": "python",
   "pygments_lexer": "ipython3",
   "version": "3.12.4"
  }
 },
 "nbformat": 4,
 "nbformat_minor": 5
}
